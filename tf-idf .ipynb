{
 "cells": [
  {
   "cell_type": "code",
   "execution_count": 32,
   "id": "c5e45161",
   "metadata": {},
   "outputs": [
    {
     "name": "stderr",
     "output_type": "stream",
     "text": [
      "C:\\Users\\Sneha\\anaconda3\\Lib\\site-packages\\pandas\\core\\arrays\\masked.py:60: UserWarning: Pandas requires version '1.3.6' or newer of 'bottleneck' (version '1.3.5' currently installed).\n",
      "  from pandas.core import (\n"
     ]
    }
   ],
   "source": [
    "import PyPDF2 \n",
    "import re\n",
    "import numpy as np\n",
    "import pandas as pd\n",
    "from nltk.corpus import stopwords\n",
    "from nltk.tokenize import sent_tokenize, word_tokenize\n",
    "from sklearn.feature_extraction.text import TfidfVectorizer\n",
    "from sklearn.metrics.pairwise import cosine_similarity\n",
    "import nltk\n",
    "import json\n",
    "import os\n",
    "from IPython.display import display, Markdown"
   ]
  },
  {
   "cell_type": "code",
   "execution_count": 33,
   "id": "24d80e46",
   "metadata": {},
   "outputs": [
    {
     "data": {
      "text/plain": [
       "True"
      ]
     },
     "execution_count": 33,
     "metadata": {},
     "output_type": "execute_result"
    }
   ],
   "source": [
    "nltk.download('punkt', quiet=True)\n",
    "nltk.download('stopwords', quiet=True)"
   ]
  },
  {
   "cell_type": "code",
   "execution_count": 34,
   "id": "4f63f627",
   "metadata": {},
   "outputs": [],
   "source": [
    "def extract_text_from_pdf(pdf_path):\n",
    "    \"\"\"Extract text from a PDF file\"\"\"\n",
    "    text = \"\"\n",
    "    try:\n",
    "        with open(pdf_path, 'rb') as file:\n",
    "            pdf_reader = PyPDF2.PdfReader(file)\n",
    "            for page in pdf_reader.pages:\n",
    "                text += page.extract_text()\n",
    "        return text\n",
    "    except Exception as e:\n",
    "        print(f\"Error extracting text from PDF: {e}\")\n",
    "        return text"
   ]
  },
  {
   "cell_type": "code",
   "execution_count": 35,
   "id": "e2727cd4",
   "metadata": {},
   "outputs": [],
   "source": [
    "def preprocess(text):\n",
    "    text = re.sub(r'\\s+', ' ', text)\n",
    "    sentences = sent_tokenize(text)\n",
    "    stop_words = set(stopwords.words('english'))\n",
    "    clean_sentences = []\n",
    "    for sent in sentences:\n",
    "        if len(sent.strip()) < 5:\n",
    "            continue\n",
    "        words = word_tokenize(sent)\n",
    "        filtered = [w.lower() for w in words if w.isalpha() and w.lower() not in stop_words]\n",
    "        if filtered:\n",
    "            clean_sentences.append((sent, ' '.join(filtered)))\n",
    "    return clean_sentences"
   ]
  },
  {
   "cell_type": "code",
   "execution_count": 36,
   "id": "15187feb",
   "metadata": {},
   "outputs": [],
   "source": [
    "def get_resume_categories():\n",
    "    categories = {\n",
    "        'Name': ['name', 'profile', 'personal', 'bio', 'candidate'],\n",
    "        'Contact Information': ['contact', 'email', 'phone', 'linkedin', 'github', 'address', 'mobile', 'tel', 'website'],\n",
    "        'Work Experience': ['experience', 'work', 'employment', 'job', 'position', 'role', 'company', 'organization', \n",
    "                           'history', 'professional', 'career', 'intern', 'internship'],\n",
    "        'Education': ['education', 'university', 'college', 'school', 'degree', 'academic', 'graduation', 'bachelor', \n",
    "                     'master', 'phd', 'gpa', 'cgpa', 'grade', 'qualification'],\n",
    "        'Projects': ['project', 'application', 'developed', 'built', 'created', 'implemented', 'designed', 'system',\n",
    "                    'development', 'portfolio', 'github'],\n",
    "        'Skills & Tools': ['skills', 'technologies', 'tools', 'languages', 'proficient', 'expertise', 'programming',\n",
    "                          'technical', 'framework', 'library', 'platform', 'software', 'hardware', 'competencies'],\n",
    "        'Achievements': ['award', 'prize', 'achievement', 'honor', 'recognition', 'scholarship', 'won', 'received',\n",
    "                        'accomplishment', 'certified', 'winner'],\n",
    "        'Certifications': ['certification', 'course', 'certified', 'license', 'completed', 'training', 'credential', \n",
    "                          'diploma', 'certificate', 'program'],\n",
    "        'Interests': ['interest', 'hobby', 'hobbies', 'activity', 'passion', 'volunteer', 'volunteering', 'extracurricular']\n",
    "    }\n",
    "    \n",
    "    return categories"
   ]
  },
  {
   "cell_type": "code",
   "execution_count": 37,
   "id": "fdcb0b0e",
   "metadata": {},
   "outputs": [],
   "source": [
    "class ResumeParser:\n",
    "    def __init__(self):\n",
    "        self.categories = get_resume_categories()\n",
    "        self.category_docs = {category: ' '.join(keywords) for category, keywords in self.categories.items()}\n",
    "    def parse(self, resume_text):\n",
    "        self.clean_sentences = preprocess(resume_text)\n",
    "        print(f\"Extracted {len(self.clean_sentences)} sentences from the resume\")\n",
    "        self.categorized_sentences = self.hybrid_categorization()\n",
    "        structured_data = self.format_resume_output()\n",
    "        return structured_data, self.categorized_sentences\n",
    "    \n",
    "    def hybrid_categorization(self):\n",
    "        tfidf_vectorizer = TfidfVectorizer()\n",
    "        sentence_docs = [sent[1] for sent in self.clean_sentences]\n",
    "        category_docs_list = list(self.category_docs.values())\n",
    "        all_docs = category_docs_list + sentence_docs\n",
    "        tfidf_matrix = tfidf_vectorizer.fit_transform(all_docs)\n",
    "        category_vectors = tfidf_matrix[:len(category_docs_list)]\n",
    "        sentence_vectors = tfidf_matrix[len(category_docs_list):]\n",
    "        similarities = cosine_similarity(sentence_vectors, category_vectors)\n",
    "        category_names = list(self.categories.keys())\n",
    "        category_weights = {\n",
    "            'Name': 1.2,\n",
    "            'Contact Information': 1.5,\n",
    "            'Education': 1.0,\n",
    "            'Work Experience': 0.9,\n",
    "            'Projects': 0.8,\n",
    "            'Skills & Tools': 1.1,\n",
    "            'Achievements': 1.3,\n",
    "            'Certifications': 1.4,\n",
    "            'Interests': 0.7\n",
    "        }\n",
    "        for i, category in enumerate(category_names):\n",
    "            similarities[:, i] *= category_weights[category]\n",
    "        categorized = {category: [] for category in category_names}\n",
    "        for i, similarity_scores in enumerate(similarities):\n",
    "            best_category_idx = np.argmax(similarity_scores)\n",
    "            if similarity_scores[best_category_idx] > 0.02: \n",
    "                categorized[category_names[best_category_idx]].append(self.clean_sentences[i][0])\n",
    "        \n",
    "        return categorized\n",
    "    \n",
    "    def extract_name(self, text):\n",
    "        first_lines = text.strip().split('\\n')[:3] \n",
    "        for line in first_lines:\n",
    "            line = line.strip()\n",
    "            if len(line) > 0:\n",
    "                if line.isupper() and len(line) > 3 and len(line.split()) <= 4:\n",
    "                    return line\n",
    "                if all(part[0].isupper() for part in line.split() if part) and len(line.split()) <= 4:\n",
    "                    return line\n",
    "        if self.categorized_sentences['Name']:\n",
    "            return self.categorized_sentences['Name'][0].strip()\n",
    "        return \"Name not found\"\n",
    "    \n",
    "    def extract_contact_info(self, text):\n",
    "        contact_info = {}\n",
    "        email_match = re.search(r'[\\w\\.-]+@[\\w\\.-]+\\.\\w+', text)\n",
    "        if email_match:\n",
    "            contact_info['Email'] = email_match.group(0)\n",
    "        phone_match = re.search(r'(?:\\+\\d{1,3}[-.\\s]?)?\\(?\\d{3}\\)?[-.\\s]?\\d{3}[-.\\s]?\\d{4}|\\+\\d{1,3}\\s\\d{10}|\\+\\d{10,}', text)\n",
    "        if phone_match:\n",
    "            contact_info['Phone'] = phone_match.group(0)\n",
    "        linkedin_match = re.search(r'linkedin\\.com/(?:in/|profile/)?([\\w-]+)', text)\n",
    "        if linkedin_match:\n",
    "            contact_info['LinkedIn'] = f\"linkedin.com/in/{linkedin_match.group(1)}\"\n",
    "        github_match = re.search(r'github\\.com/([\\w-]+)', text)\n",
    "        if github_match:\n",
    "            contact_info['GitHub'] = f\"github.com/{github_match.group(1)}\"\n",
    "        website_matches = re.findall(r'https?://(?:www\\.)?([\\w.-]+\\.[a-zA-Z]{2,})[^\\s,]*', text)\n",
    "        websites = []\n",
    "        for match in website_matches:\n",
    "            if 'linkedin' not in match and 'github' not in match:\n",
    "                websites.append(match)\n",
    "        if websites:\n",
    "            contact_info['Websites'] = websites\n",
    "        location_match = re.search(r'([A-Z][a-z]+(?:\\s[A-Z][a-z]+)*),\\s+([A-Z][a-z]+(?:\\s[A-Z][a-z]+)*)', text)\n",
    "        if location_match:\n",
    "            contact_info['Location'] = location_match.group(0)\n",
    "        return contact_info\n",
    "    \n",
    "    def format_resume_output(self):\n",
    "        all_text = ' '.join([sent for category in self.categorized_sentences.values() for sent in category])\n",
    "        original_text = ' '.join([sent[0] for sent in self.clean_sentences])\n",
    "        output = {}\n",
    "        output['Name'] = self.extract_name(original_text)\n",
    "        output['Contact'] = self.extract_contact_info(original_text)\n",
    "        for category in ['Education', 'Work Experience', 'Projects', 'Skills & Tools', 'Achievements', 'Certifications', 'Interests']:\n",
    "            if category in self.categorized_sentences and self.categorized_sentences[category]:\n",
    "                cleaned_items = []\n",
    "                for item in self.categorized_sentences[category]:\n",
    "                    cleaned = re.sub(r'\\s+', ' ', item.strip())\n",
    "                    if cleaned and len(cleaned) > 3:  # Skip very short items\n",
    "                        cleaned_items.append(cleaned)\n",
    "                output[category] = cleaned_items\n",
    "        \n",
    "        return output\n"
   ]
  },
  {
   "cell_type": "code",
   "execution_count": 38,
   "id": "1b036a07",
   "metadata": {},
   "outputs": [],
   "source": [
    "def print_parsed_resume(structured_data):\n",
    "    print(\"\\n===== PARSED RESUME INFORMATION =====\\n\")\n",
    "    print(f\"NAME: {structured_data.get('Name', 'Not found')}\")\n",
    "    print(\"\\nCONTACT INFORMATION:\")\n",
    "    contact = structured_data.get('Contact', {})\n",
    "    if contact:\n",
    "        for key, value in contact.items():\n",
    "            print(f\"- {key}: {value}\")\n",
    "    else:\n",
    "        print(\"- No contact information found\")\n",
    "    category_order = [\n",
    "        'Education',\n",
    "        'Work Experience',\n",
    "        'Projects',\n",
    "        'Skills & Tools',\n",
    "        'Achievements', \n",
    "        'Certifications',\n",
    "        'Interests'\n",
    "    ]\n",
    "    \n",
    "    for category in category_order:\n",
    "        if category in structured_data and structured_data[category]:\n",
    "            print(f\"\\n{category.upper()}:\")\n",
    "            for i, item in enumerate(structured_data[category], 1):\n",
    "                print(f\"{i}. {item}\")\n",
    "    \n",
    "    print(\"\\n=====================================\")\n",
    "    markdown_text = f\"# {structured_data.get('Name', 'Resume')}\\n\\n\"\n",
    "    markdown_text += \"## Contact Information\\n\"\n",
    "    if contact:\n",
    "        for key, value in contact.items():\n",
    "            if isinstance(value, list):\n",
    "                markdown_text += f\"- **{key}**: {', '.join(value)}\\n\"\n",
    "            else:\n",
    "                markdown_text += f\"- **{key}**: {value}\\n\"\n",
    "    else:\n",
    "        markdown_text += \"- No contact information found\\n\"\n",
    "    for category in category_order:\n",
    "        if category in structured_data and structured_data[category]:\n",
    "            markdown_text += f\"\\n## {category}\\n\"\n",
    "            for item in structured_data[category]:\n",
    "                markdown_text += f\"- {item}\\n\"\n",
    "    \n",
    "    return display(Markdown(markdown_text))\n"
   ]
  },
  {
   "cell_type": "code",
   "execution_count": 39,
   "id": "69ab1ab8",
   "metadata": {},
   "outputs": [],
   "source": [
    "def save_results(structured_data, categorized_data, output_path=\"resume_parsed.json\"):\n",
    "    results = {\n",
    "        \"structured_data\": structured_data,\n",
    "        \"categorized_data\": categorized_data\n",
    "    }\n",
    "    \n",
    "    with open(output_path, 'w', encoding='utf-8') as f:\n",
    "        json.dump(results, f, indent=2, ensure_ascii=False)\n",
    "    \n",
    "    print(f\"Results saved to {output_path}\")\n",
    "\n"
   ]
  },
  {
   "cell_type": "code",
   "execution_count": 40,
   "id": "91e3d459",
   "metadata": {},
   "outputs": [],
   "source": [
    "\n",
    "def evaluate_categorization(categorized_data):\n",
    "    total_sentences = sum(len(sentences) for sentences in categorized_data.values())\n",
    "    distribution = {category: len(sentences)/max(1, total_sentences) \n",
    "                   for category, sentences in categorized_data.items()}\n",
    "    empty_categories = [category for category, sentences in categorized_data.items() \n",
    "                        if not sentences]\n",
    "    print(\"Category distribution:\")\n",
    "    for category, percentage in distribution.items():\n",
    "        print(f\"{category}: {percentage:.2%} ({len(categorized_data[category])} sentences)\")\n",
    "    print(f\"\\nEmpty categories: {empty_categories if empty_categories else 'None'}\")\n",
    "    balance_score = 1 - np.std(list(distribution.values()))\n",
    "    print(f\"\\nBalance score (higher is better): {balance_score:.4f}\")\n",
    "    df = pd.DataFrame(list(distribution.items()), columns=['Category', 'Percentage'])\n",
    "    return df"
   ]
  },
  {
   "cell_type": "code",
   "execution_count": 49,
   "id": "cbed8a9d",
   "metadata": {},
   "outputs": [],
   "source": [
    "def parse_resume(file_path):\n",
    "    \"\"\"Main function to parse a resume file\"\"\"\n",
    "    # Extract text from the resume file\n",
    "    resume_text = extract_text_from_pdf(file_path)\n",
    "    if not resume_text:\n",
    "        print(f\"Failed to extract text from {file_path}\")\n",
    "        return None, None\n",
    "    \n",
    "    print(f\"Extracted {len(resume_text)} characters from the resume\")\n",
    "    parser = ResumeParser()\n",
    "    structured_data, categorized_data = parser.parse(resume_text)\n",
    "    \n",
    "    print_parsed_resume(structured_data)\n",
    "    df = evaluate_categorization(categorized_data)\n",
    "    filename = os.path.basename(file_path)\n",
    "    base_name = os.path.splitext(filename)[0]\n",
    "    save_results(structured_data, categorized_data, f\"{base_name}_parsed.json\")\n",
    "    return structured_data, categorized_data, df"
   ]
  },
  {
   "cell_type": "code",
   "execution_count": 50,
   "id": "ad0374de",
   "metadata": {},
   "outputs": [],
   "source": [
    "\n",
    "resume_file_path = \"sneha_resume.pdf\"\n",
    "\n"
   ]
  },
  {
   "cell_type": "code",
   "execution_count": 51,
   "id": "bd6ebfc3",
   "metadata": {},
   "outputs": [
    {
     "name": "stdout",
     "output_type": "stream",
     "text": [
      "Extracted 3406 characters from the resume\n",
      "Extracted 15 sentences from the resume\n",
      "\n",
      "===== PARSED RESUME INFORMATION =====\n",
      "\n",
      "NAME: Name not found\n",
      "\n",
      "CONTACT INFORMATION:\n",
      "- Email: snehakumari64445@gmail.com\n",
      "- Phone: +91 9310913758\n",
      "- LinkedIn: linkedin.com/in/sneha422\n",
      "- Websites: ['sneha.everydayseries.io']\n",
      "- Location: Faridabad, India\n",
      "\n",
      "EDUCATION:\n",
      "1. SNEHA KUMARI Faridabad, India +91 9310913758 snehakumari64445@gmail.com linkedin.com/in/sneha422 https://sneha.everydayseries.io/ Education Manav Rachna University 2022 – 2026 Bachelor of Technology in Computer Science and Technology (maintain ing SGPA of 8.82 ) Faridabad, India Tagore Academy Public School, Sec 3, FBD 2022 CBSE 12th (85%) 10th (92.6%) Experience Remote Advanced Nonlinear Technologies Limited (London, U K) 13 Jan’25 – Present Software Developer (Gen AI) Intern (10,000/month) - Engaged in a 12 -week career readiness program focused on Generative AI applications in professional and technical domains.\n",
      "2. Achievements - Holding reputation among Top 10% in Quine and won $1 92 dollars - Participated in Amity University's hackathon, achieving a top 10 rank out of 97 participating teams.\n",
      "\n",
      "PROJECTS:\n",
      "1. - Currently working on a capstone project to design, develop, and present a comprehensive Generative AI solution .\n",
      "2. INeuron AI 16 June ’24 – 22 july’24 Project Intern (Unpaid) - Developed an AI system that provides fashion advice and generates custom outfit images based on user prompts.\n",
      "3. Projects YouTube Comment Analyzer | React , Python | Try out | Blog - Developed a Flask -based API using Google Cloud Console and YouTube Data API v3 to extract all YouTube comments beyond the 100 -limit using regex -based ID extraction and pagination handling.\n",
      "4. Once installed, the extension analyzes the project's package, identifies the main file, and reviews the entire source code.\n",
      "5. - To use it enter either the Gemini API or MindsDB API, it will then generates a structured and informative README based on the project's setup and dependencies .\n",
      "\n",
      "SKILLS & TOOLS:\n",
      "1. Profile Links • GitHub • Leet Code (Contest Rating: 1,573 | Top: 26.83% ) • Code 360 • Portfolio Technical Skills Languages : C, C++, Python , HTML/CSS, JavaScript , Java Technologies/Frameworks/Libraries : React JS, React Native, Git , GitHu b, MindsDB\n",
      "\n",
      "ACHIEVEMENTS:\n",
      "1. - 1st Prize Winner in the Health Tech Innovation Fest at MRIIRS.\n",
      "\n",
      "=====================================\n"
     ]
    },
    {
     "data": {
      "text/markdown": [
       "# Name not found\n",
       "\n",
       "## Contact Information\n",
       "- **Email**: snehakumari64445@gmail.com\n",
       "- **Phone**: +91 9310913758\n",
       "- **LinkedIn**: linkedin.com/in/sneha422\n",
       "- **Websites**: sneha.everydayseries.io\n",
       "- **Location**: Faridabad, India\n",
       "\n",
       "## Education\n",
       "- SNEHA KUMARI Faridabad, India +91 9310913758 snehakumari64445@gmail.com linkedin.com/in/sneha422 https://sneha.everydayseries.io/ Education Manav Rachna University 2022 – 2026 Bachelor of Technology in Computer Science and Technology (maintain ing SGPA of 8.82 ) Faridabad, India Tagore Academy Public School, Sec 3, FBD 2022 CBSE 12th (85%) 10th (92.6%) Experience Remote Advanced Nonlinear Technologies Limited (London, U K) 13 Jan’25 – Present Software Developer (Gen AI) Intern (10,000/month) - Engaged in a 12 -week career readiness program focused on Generative AI applications in professional and technical domains.\n",
       "- Achievements - Holding reputation among Top 10% in Quine and won $1 92 dollars - Participated in Amity University's hackathon, achieving a top 10 rank out of 97 participating teams.\n",
       "\n",
       "## Projects\n",
       "- - Currently working on a capstone project to design, develop, and present a comprehensive Generative AI solution .\n",
       "- INeuron AI 16 June ’24 – 22 july’24 Project Intern (Unpaid) - Developed an AI system that provides fashion advice and generates custom outfit images based on user prompts.\n",
       "- Projects YouTube Comment Analyzer | React , Python | Try out | Blog - Developed a Flask -based API using Google Cloud Console and YouTube Data API v3 to extract all YouTube comments beyond the 100 -limit using regex -based ID extraction and pagination handling.\n",
       "- Once installed, the extension analyzes the project's package, identifies the main file, and reviews the entire source code.\n",
       "- - To use it enter either the Gemini API or MindsDB API, it will then generates a structured and informative README based on the project's setup and dependencies .\n",
       "\n",
       "## Skills & Tools\n",
       "- Profile Links • GitHub • Leet Code (Contest Rating: 1,573 | Top: 26.83% ) • Code 360 • Portfolio Technical Skills Languages : C, C++, Python , HTML/CSS, JavaScript , Java Technologies/Frameworks/Libraries : React JS, React Native, Git , GitHu b, MindsDB\n",
       "\n",
       "## Achievements\n",
       "- - 1st Prize Winner in the Health Tech Innovation Fest at MRIIRS.\n"
      ],
      "text/plain": [
       "<IPython.core.display.Markdown object>"
      ]
     },
     "metadata": {},
     "output_type": "display_data"
    },
    {
     "name": "stdout",
     "output_type": "stream",
     "text": [
      "Category distribution:\n",
      "Name: 0.00% (0 sentences)\n",
      "Contact Information: 0.00% (0 sentences)\n",
      "Work Experience: 0.00% (0 sentences)\n",
      "Education: 22.22% (2 sentences)\n",
      "Projects: 55.56% (5 sentences)\n",
      "Skills & Tools: 11.11% (1 sentences)\n",
      "Achievements: 11.11% (1 sentences)\n",
      "Certifications: 0.00% (0 sentences)\n",
      "Interests: 0.00% (0 sentences)\n",
      "\n",
      "Empty categories: ['Name', 'Contact Information', 'Work Experience', 'Certifications', 'Interests']\n",
      "\n",
      "Balance score (higher is better): 0.8263\n",
      "Results saved to sneha_resume_parsed.json\n"
     ]
    }
   ],
   "source": [
    "# Parse the resume\n",
    "structured_data, categorized_data, distribution_df = parse_resume(resume_file_path)\n"
   ]
  },
  {
   "cell_type": "code",
   "execution_count": 46,
   "id": "924b061d",
   "metadata": {},
   "outputs": [
    {
     "data": {
      "image/png": "[encoded data removed]",
      "text/plain": [
       "<Figure size 1200x600 with 1 Axes>"
      ]
     },
     "metadata": {},
     "output_type": "display_data"
    }
   ],
   "source": [
    "import matplotlib.pyplot as plt\n",
    "import seaborn as sns\n",
    "\n",
    "plt.figure(figsize=(12, 6))\n",
    "ax = sns.barplot(x='Category', y='Percentage', data=distribution_df)\n",
    "plt.title('Resume Category Distribution')\n",
    "plt.xticks(rotation=45, ha='right')\n",
    "plt.tight_layout()\n",
    "plt.show()"
   ]
  },
  {
   "cell_type": "code",
   "execution_count": null,
   "id": "2db06463",
   "metadata": {},
   "outputs": [],
   "source": []
  }
 ],
 "metadata": {
  "kernelspec": {
   "display_name": "Python 3 (ipykernel)",
   "language": "python",
   "name": "python3"
  },
  "language_info": {
   "codemirror_mode": {
    "name": "ipython",
    "version": 3
   },
   "file_extension": ".py",
   "mimetype": "text/x-python",
   "name": "python",
   "nbconvert_exporter": "python",
   "pygments_lexer": "ipython3",
   "version": "3.11.5"
  }
 },
 "nbformat": 4,
 "nbformat_minor": 5
}
